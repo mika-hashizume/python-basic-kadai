{
  "nbformat": 4,
  "nbformat_minor": 0,
  "metadata": {
    "colab": {
      "provenance": [],
      "authorship_tag": "ABX9TyMbCKpAVgp7qEnPy3oJdILe",
      "include_colab_link": true
    },
    "kernelspec": {
      "name": "python3",
      "display_name": "Python 3"
    },
    "language_info": {
      "name": "python"
    }
  },
  "cells": [
    {
      "cell_type": "markdown",
      "metadata": {
        "id": "view-in-github",
        "colab_type": "text"
      },
      "source": [
        "<a href=\"https://colab.research.google.com/github/mika-hashizume/python-basic-kadai/blob/main/kadai_008.ipynb\" target=\"_parent\"><img src=\"https://colab.research.google.com/assets/colab-badge.svg\" alt=\"Open In Colab\"/></a>"
      ]
    },
    {
      "cell_type": "code",
      "execution_count": 14,
      "metadata": {
        "id": "c5jvkIuc-LXj",
        "colab": {
          "base_uri": "https://localhost:8080/"
        },
        "outputId": "83bc04de-fc5a-4ba5-c55d-3b38a864fe8b"
      },
      "outputs": [
        {
          "output_type": "stream",
          "name": "stdout",
          "text": [
            "15\n",
            "FizzBuzz\n"
          ]
        }
      ],
      "source": [
        "#ランダムな整数を利用するために、randomモジュールをインポート\n",
        "import random\n",
        "\n",
        "# 変数varに0～20までのランダムな整数を代入する\n",
        "var = random.randint(0, 20)\n",
        "\n",
        "# 変数numの値を出力\n",
        "print(var)\n",
        "\n",
        "if var % 3 == 0 and var % 5 == 0:\n",
        "    print(\"FizzBuzz\")\n",
        "# 変数varの値が3の倍数であれば、「Fizz」を出力する\n",
        "elif var % 3 == 0:\n",
        "    print(\"Fizz\")\n",
        "\n",
        "# 変数varの値が5の倍数であれば、「Buzz」を出力する\n",
        "elif var % 5 == 0:\n",
        "    print(\"Bizz\")\n",
        "\n",
        "else:\n",
        "    print(var)\n"
      ]
    }
  ]
}